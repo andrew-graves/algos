{
 "cells": [
  {
   "cell_type": "markdown",
   "metadata": {},
   "source": [
    "# Toy Hidden Markov Model Demonstrations\n",
    "\n",
    "- Andrew J. Graves\n",
    "- 11/11/20"
   ]
  },
  {
   "cell_type": "code",
   "execution_count": 4,
   "metadata": {},
   "outputs": [],
   "source": [
    "# Import modules\n",
    "import numpy as np\n",
    "import pandas as pd\n",
    "\n",
    "# Observation matrix\n",
    "B = np.array([[.4, .3, .3],\n",
    "              [.3, .4, .3],\n",
    "              [.3, .3, .4]])\n",
    "\n",
    "# Transition matrix\n",
    "A = np.array([[.1, .5, .4],\n",
    "              [.2,  0, .8],\n",
    "              [ 0, .3, .7]])\n",
    "\n",
    "# Started in state 1 with certainty\n",
    "init = np.array([1, 0, 0])\n",
    "\n",
    "# Sensor observations (where 0 = 1)\n",
    "obs = np.array([0, 2, 2])"
   ]
  },
  {
   "cell_type": "markdown",
   "metadata": {},
   "source": [
    "To find the most likely state after three time-points, we need to find and normalize $\\alpha(h_3)$. We can solve for $\\alpha(h_t)$ with the following filtering recursion: \n",
    "\n",
    "$$\\alpha(h_t) = p(v_t|h_t)\\sum_{h_t-1}p(h_t|h_t-1)\\alpha(h_{t-1})$$"
   ]
  },
  {
   "cell_type": "code",
   "execution_count": 5,
   "metadata": {},
   "outputs": [
    {
     "name": "stdout",
     "output_type": "stream",
     "text": [
      "The most likely state after 3 time points is 3 with probability 0.7721518987341772.\n"
     ]
    }
   ],
   "source": [
    "# Run the Markov filtering recursion\n",
    "for idx, i in enumerate(obs):\n",
    "    if idx == 0:\n",
    "        alpha = B[i] * init\n",
    "    else:\n",
    "        alpha = B[i] * (alpha @ A)\n",
    "\n",
    "# Compute the probability for each state after 3 time points\n",
    "p_state = alpha / np.sum(alpha)\n",
    "print(f'The most likely state after 3 time points is \\\n",
    "{np.argmax(p_state)+1} with probability {np.max(p_state)}.')"
   ]
  },
  {
   "cell_type": "markdown",
   "metadata": {},
   "source": [
    "To find the most likely path, we need to implement the Viterbi algorithm:"
   ]
  },
  {
   "cell_type": "code",
   "execution_count": 6,
   "metadata": {},
   "outputs": [
    {
     "data": {
      "text/html": [
       "<div>\n",
       "<style scoped>\n",
       "    .dataframe tbody tr th:only-of-type {\n",
       "        vertical-align: middle;\n",
       "    }\n",
       "\n",
       "    .dataframe tbody tr th {\n",
       "        vertical-align: top;\n",
       "    }\n",
       "\n",
       "    .dataframe thead th {\n",
       "        text-align: right;\n",
       "    }\n",
       "</style>\n",
       "<table border=\"1\" class=\"dataframe\">\n",
       "  <thead>\n",
       "    <tr style=\"text-align: right;\">\n",
       "      <th></th>\n",
       "      <th>Time 1</th>\n",
       "      <th>Time 2</th>\n",
       "      <th>Time 3</th>\n",
       "    </tr>\n",
       "  </thead>\n",
       "  <tbody>\n",
       "    <tr>\n",
       "      <th>0</th>\n",
       "      <td>1.0</td>\n",
       "      <td>3.0</td>\n",
       "      <td>3.0</td>\n",
       "    </tr>\n",
       "  </tbody>\n",
       "</table>\n",
       "</div>"
      ],
      "text/plain": [
       "   Time 1  Time 2  Time 3\n",
       "0     1.0     3.0     3.0"
      ]
     },
     "execution_count": 6,
     "metadata": {},
     "output_type": "execute_result"
    }
   ],
   "source": [
    "# Run the Viterbi algorithm: initialize arrays\n",
    "T = len(obs)\n",
    "delta = np.zeros((T, A.shape[0]))\n",
    "prev = delta.copy()\n",
    "S = np.zeros(T)\n",
    "delta[0] = init * B[:, obs[0]]\n",
    "prev[0] = np.repeat(np.nan, 3)\n",
    "\n",
    "for t in range(1, T):\n",
    "    for j in range(A.shape[0]):\n",
    "        # The most likely state given our previous state at t-1\n",
    "        prob = delta[t-1] * (A[:, j])\n",
    "        # The probability of the most probable state given the previous state and the observation at time t\n",
    "        delta[t, j] = np.max(prob) * (B[j, obs[t]])                \n",
    "        # The most probable state given previous state \n",
    "        prev[t, j] = np.argmax(prob)\n",
    "\n",
    "cols = []\n",
    "# Find the most probable hidden states\n",
    "for i in range(1, T+1):\n",
    "    S[T-i] = np.argmax(delta[T-i])\n",
    "    cols.append(f'Time {str(i)}')\n",
    "# Print out the most likely path\n",
    "pd.DataFrame(S.reshape([1,3]) + 1, columns=cols)"
   ]
  }
 ],
 "metadata": {
  "kernelspec": {
   "display_name": "Python 3",
   "language": "python",
   "name": "python3"
  },
  "language_info": {
   "codemirror_mode": {
    "name": "ipython",
    "version": 3
   },
   "file_extension": ".py",
   "mimetype": "text/x-python",
   "name": "python",
   "nbconvert_exporter": "python",
   "pygments_lexer": "ipython3",
   "version": "3.7.4"
  }
 },
 "nbformat": 4,
 "nbformat_minor": 4
}
