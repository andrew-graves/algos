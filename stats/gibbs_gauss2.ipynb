{
 "cells": [
  {
   "cell_type": "markdown",
   "metadata": {},
   "source": [
    "# 2-D Gaussian Gibbs Sampler\n",
    "\n",
    "- Andrew J. Graves\n",
    "- 10/26/20"
   ]
  },
  {
   "cell_type": "code",
   "execution_count": 1,
   "metadata": {},
   "outputs": [],
   "source": [
    "# Import modules\n",
    "import numpy as np\n",
    "from scipy.stats import multivariate_normal\n",
    "\n",
    "# Example parameters of 2D Gaussian\n",
    "mu = np.array([2, 2])\n",
    "sigma = np.array([[1, -.3], [-.3, 1]])"
   ]
  },
  {
   "cell_type": "markdown",
   "metadata": {},
   "source": [
    "For the case of a 2-dimensional Gaussian random variable, it can be shown that the conditional distribution of $x_1$ given $x_2$ has the form:\n",
    "\n",
    "$$p(x_1 | x_2 = k) = \\frac{1}{\\sigma\\sqrt{2 \\pi}}\\text{exp}\\left(\\frac{-1}{2\\sigma^2}(x_1 - \\mu)^2\\right)$$\n",
    "\n",
    "It can be that the solution for the parameterization of this conditional distribution is ([source here](https://online.stat.psu.edu/stat505/lesson/6/6.1))\n",
    "\n",
    "$$\\mu_{x_1|x_2} = \\mu_1 + \\frac{\\sigma_{12}}{\\sigma_{22}}(x_2 - \\mu_2)$$\n",
    "\n",
    "$$\\sigma_{x_1|x_2} = \\sigma_{11} - \\frac{\\sigma_{12}^2}{\\sigma_{22}}$$\n",
    "\n",
    "We can use these updating equations to make random draws from univariate slices of the bivariate Gaussian. This simple setup with a Gibbs sampler will converge to the target distribution relatively quickly."
   ]
  },
  {
   "cell_type": "code",
   "execution_count": 2,
   "metadata": {},
   "outputs": [],
   "source": [
    "# Convenience functions for updating parameters on each draw\n",
    "def x1_giv_x2(x2, mu, sigma):\n",
    "    # Update x1 given x2\n",
    "    new_mu = mu[0] + sigma[0, 1] / sigma[1, 1] * (x2 - mu[1])\n",
    "    new_sigma = sigma[0, 0] - (sigma[0, 1] ** 2) / sigma[1, 1]\n",
    "    x1 = np.random.normal(new_mu, new_sigma)\n",
    "    return x1\n",
    "\n",
    "def x2_giv_x1(x1, mu, sigma):\n",
    "    # Update x2 given x1\n",
    "    new_mu = mu[1] + sigma[1, 0] / sigma[0, 0] * (x1 - mu[0])\n",
    "    new_sigma = sigma[1, 1] - (sigma[1, 0] ** 2) / sigma[0, 0]\n",
    "    x2 = np.random.normal(new_mu, new_sigma)\n",
    "    return x2\n",
    "\n",
    "# Gibbs sampler\n",
    "def gibbs_sampler_gauss(mu, sigma, draw=100, tune=100, init=np.random.rand()):\n",
    "    \n",
    "    # Initialize sampling output\n",
    "    samp = np.zeros((draw, 2))\n",
    "    \n",
    "    # Initial value for x2\n",
    "    x2 = init\n",
    "\n",
    "    # Tune the sampler\n",
    "    for i in range(tune):\n",
    "        # Update locations and parameters\n",
    "        x1 = x1_giv_x2(x2, mu, sigma)\n",
    "        x2 = x2_giv_x1(x1, mu, sigma)\n",
    "    \n",
    "    # Draw from the 2D distribution\n",
    "    for i in range(draw):\n",
    "        # Update locations and parameters\n",
    "        x1 = x1_giv_x2(x2, mu, sigma)\n",
    "        x2 = x2_giv_x1(x1, mu, sigma)\n",
    "        samp[i, :] = [x1, x2]\n",
    "        \n",
    "    return samp\n",
    "\n",
    "# Evaluate the 2D Gaussian on inputs\n",
    "rv = multivariate_normal(mu, sigma)"
   ]
  }
 ],
 "metadata": {
  "kernelspec": {
   "display_name": "Python 3",
   "language": "python",
   "name": "python3"
  },
  "language_info": {
   "codemirror_mode": {
    "name": "ipython",
    "version": 3
   },
   "file_extension": ".py",
   "mimetype": "text/x-python",
   "name": "python",
   "nbconvert_exporter": "python",
   "pygments_lexer": "ipython3",
   "version": "3.7.4"
  }
 },
 "nbformat": 4,
 "nbformat_minor": 4
}
